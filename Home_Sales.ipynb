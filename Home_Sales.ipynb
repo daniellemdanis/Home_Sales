{
  "cells": [
    {
      "cell_type": "code",
      "execution_count": 12,
      "metadata": {
        "colab": {
          "base_uri": "https://localhost:8080/"
        },
        "id": "a_KW73O2e3dw",
        "outputId": "b2087826-e039-4c35-89c8-0d2ff85d668f"
      },
      "outputs": [
        {
          "output_type": "stream",
          "name": "stdout",
          "text": [
            "\r0% [Working]\r            \rHit:1 https://cloud.r-project.org/bin/linux/ubuntu jammy-cran40/ InRelease\n",
            "\r0% [Connecting to archive.ubuntu.com (185.125.190.36)] [Connecting to security.ubuntu.com (91.189.91\r                                                                                                    \rHit:2 https://developer.download.nvidia.com/compute/cuda/repos/ubuntu2204/x86_64  InRelease\n",
            "\r0% [Connecting to archive.ubuntu.com (185.125.190.36)] [Waiting for headers] [Connecting to ppa.laun\r                                                                                                    \rHit:3 http://security.ubuntu.com/ubuntu jammy-security InRelease\n",
            "Hit:4 http://archive.ubuntu.com/ubuntu jammy InRelease\n",
            "Hit:5 http://archive.ubuntu.com/ubuntu jammy-updates InRelease\n",
            "Hit:6 http://archive.ubuntu.com/ubuntu jammy-backports InRelease\n",
            "Hit:7 https://ppa.launchpadcontent.net/c2d4u.team/c2d4u4.0+/ubuntu jammy InRelease\n",
            "Hit:8 https://ppa.launchpadcontent.net/deadsnakes/ppa/ubuntu jammy InRelease\n",
            "Hit:9 https://ppa.launchpadcontent.net/graphics-drivers/ppa/ubuntu jammy InRelease\n",
            "Hit:10 https://ppa.launchpadcontent.net/ubuntugis/ppa/ubuntu jammy InRelease\n",
            "Reading package lists... Done\n"
          ]
        }
      ],
      "source": [
        "import os\n",
        "# Find the latest version of spark 3.x  from http://www.apache.org/dist/spark/ and enter as the spark version\n",
        "# For example:\n",
        "# spark_version = 'spark-3.4.0'\n",
        "spark_version = 'spark-3.3.4'\n",
        "os.environ['SPARK_VERSION']=spark_version\n",
        "\n",
        "# Install Spark and Java\n",
        "!apt-get update\n",
        "!apt-get install openjdk-11-jdk-headless -qq > /dev/null\n",
        "!wget -q http://www.apache.org/dist/spark/$SPARK_VERSION/$SPARK_VERSION-bin-hadoop3.tgz\n",
        "!tar xf $SPARK_VERSION-bin-hadoop3.tgz\n",
        "!pip install -q findspark\n",
        "\n",
        "# Set Environment Variables\n",
        "os.environ[\"JAVA_HOME\"] = \"/usr/lib/jvm/java-11-openjdk-amd64\"\n",
        "os.environ[\"SPARK_HOME\"] = f\"/content/{spark_version}-bin-hadoop3\"\n",
        "\n",
        "# Start a SparkSession\n",
        "import findspark\n",
        "findspark.init()"
      ]
    },
    {
      "cell_type": "code",
      "execution_count": 13,
      "metadata": {
        "id": "2XbWNf1Te5fM"
      },
      "outputs": [],
      "source": [
        "# Import packages\n",
        "from pyspark.sql import SparkSession\n",
        "import time\n",
        "\n",
        "# Create a SparkSession\n",
        "spark = SparkSession.builder.appName(\"SparkSQL\").getOrCreate()"
      ]
    },
    {
      "cell_type": "code",
      "execution_count": 15,
      "metadata": {
        "id": "wOJqxG_RPSwp",
        "colab": {
          "base_uri": "https://localhost:8080/"
        },
        "outputId": "adc7cf90-feaf-4590-bf1a-ed195cefbb00"
      },
      "outputs": [
        {
          "output_type": "stream",
          "name": "stdout",
          "text": [
            "--2024-02-13 01:03:49--  https://2u-data-curriculum-team.s3.amazonaws.com/dataviz-classroom/v1.2/22-big-data/home_sales_revised.csv\n",
            "Resolving 2u-data-curriculum-team.s3.amazonaws.com (2u-data-curriculum-team.s3.amazonaws.com)... 52.217.174.41, 16.182.70.57, 52.217.114.41, ...\n",
            "Connecting to 2u-data-curriculum-team.s3.amazonaws.com (2u-data-curriculum-team.s3.amazonaws.com)|52.217.174.41|:443... connected.\n",
            "HTTP request sent, awaiting response... 200 OK\n",
            "Length: 2747874 (2.6M) [text/csv]\n",
            "Saving to: ‘home_sales_revised.csv’\n",
            "\n",
            "home_sales_revised. 100%[===================>]   2.62M  6.13MB/s    in 0.4s    \n",
            "\n",
            "2024-02-13 01:03:50 (6.13 MB/s) - ‘home_sales_revised.csv’ saved [2747874/2747874]\n",
            "\n",
            "root\n",
            " |-- id: string (nullable = true)\n",
            " |-- date: timestamp (nullable = true)\n",
            " |-- date_built: integer (nullable = true)\n",
            " |-- price: integer (nullable = true)\n",
            " |-- bedrooms: integer (nullable = true)\n",
            " |-- bathrooms: integer (nullable = true)\n",
            " |-- sqft_living: integer (nullable = true)\n",
            " |-- sqft_lot: integer (nullable = true)\n",
            " |-- floors: integer (nullable = true)\n",
            " |-- waterfront: integer (nullable = true)\n",
            " |-- view: integer (nullable = true)\n",
            "\n",
            "+--------------------+-------------------+----------+------+--------+---------+-----------+--------+------+----------+----+\n",
            "|                  id|               date|date_built| price|bedrooms|bathrooms|sqft_living|sqft_lot|floors|waterfront|view|\n",
            "+--------------------+-------------------+----------+------+--------+---------+-----------+--------+------+----------+----+\n",
            "|f8a53099-ba1c-47d...|2022-04-08 00:00:00|      2016|936923|       4|        3|       3167|   11733|     2|         1|  76|\n",
            "|7530a2d8-1ae3-451...|2021-06-13 00:00:00|      2013|379628|       2|        2|       2235|   14384|     1|         0|  23|\n",
            "|43de979c-0bf0-4c9...|2019-04-12 00:00:00|      2014|417866|       2|        2|       2127|   10575|     2|         0|   0|\n",
            "|b672c137-b88c-48b...|2019-10-16 00:00:00|      2016|239895|       2|        2|       1631|   11149|     2|         0|   0|\n",
            "|e0726d4d-d595-407...|2022-01-08 00:00:00|      2017|424418|       3|        2|       2249|   13878|     2|         0|   4|\n",
            "+--------------------+-------------------+----------+------+--------+---------+-----------+--------+------+----------+----+\n",
            "only showing top 5 rows\n",
            "\n"
          ]
        }
      ],
      "source": [
        "from pyspark.sql import SparkSession\n",
        "\n",
        "# Initialize SparkSession\n",
        "spark = SparkSession.builder \\\n",
        "    .appName(\"Read from S3\") \\\n",
        "    .getOrCreate()\n",
        "\n",
        "# Download the CSV file to local storage\n",
        "!wget -O home_sales_revised.csv \"https://2u-data-curriculum-team.s3.amazonaws.com/dataviz-classroom/v1.2/22-big-data/home_sales_revised.csv\"\n",
        "\n",
        "# Read data from the downloaded file into DataFrame\n",
        "df = spark.read.csv(\"home_sales_revised.csv\", header=True, inferSchema=True)\n",
        "\n",
        "# Show the DataFrame schema and some sample data\n",
        "df.printSchema()\n",
        "df.show(5)\n",
        "\n"
      ]
    },
    {
      "cell_type": "code",
      "execution_count": 16,
      "metadata": {
        "id": "RoljcJ7WPpnm"
      },
      "outputs": [],
      "source": [
        "# 2. Create a temporary view of the DataFrame.\n",
        "\n",
        "df.createOrReplaceTempView(\"home_sales_view\")\n",
        "\n"
      ]
    },
    {
      "cell_type": "code",
      "execution_count": 18,
      "metadata": {
        "id": "L6fkwOeOmqvq",
        "colab": {
          "base_uri": "https://localhost:8080/"
        },
        "outputId": "d7401cc1-e637-4975-9823-bde1491a5de2"
      },
      "outputs": [
        {
          "output_type": "stream",
          "name": "stdout",
          "text": [
            "+----+---------+\n",
            "|year|avg_price|\n",
            "+----+---------+\n",
            "|2019| 300263.7|\n",
            "|2020|298353.78|\n",
            "|2021|301819.44|\n",
            "|2022|296363.88|\n",
            "+----+---------+\n",
            "\n"
          ]
        }
      ],
      "source": [
        "# SQL query to calculate average price for a four-bedroom house sold in each year\n",
        "avg_price_query = \"\"\"\n",
        "    SELECT\n",
        "        YEAR(date) AS year,\n",
        "        ROUND(AVG(price), 2) AS avg_price\n",
        "    FROM\n",
        "        home_sales_view\n",
        "    WHERE\n",
        "        bedrooms = 4\n",
        "    GROUP BY\n",
        "        YEAR(date)\n",
        "    ORDER BY\n",
        "        year\n",
        "\"\"\"\n",
        "\n",
        "# Execute the SQL query\n",
        "avg_price_result = spark.sql(avg_price_query)\n",
        "\n",
        "# Show the result\n",
        "avg_price_result.show()\n"
      ]
    },
    {
      "cell_type": "code",
      "execution_count": 20,
      "metadata": {
        "id": "l8p_tUS8h8it",
        "colab": {
          "base_uri": "https://localhost:8080/"
        },
        "outputId": "dfbded2c-6b37-45ea-f8f1-e6528c49de7b"
      },
      "outputs": [
        {
          "output_type": "stream",
          "name": "stdout",
          "text": [
            "+----------+---------+\n",
            "|year_built|avg_price|\n",
            "+----------+---------+\n",
            "|      2010|292859.62|\n",
            "|      2011|291117.47|\n",
            "|      2012|293683.19|\n",
            "|      2013|295962.27|\n",
            "|      2014|290852.27|\n",
            "|      2015| 288770.3|\n",
            "|      2016|290555.07|\n",
            "|      2017|292676.79|\n",
            "+----------+---------+\n",
            "\n"
          ]
        }
      ],
      "source": [
        "# SQL query to calculate average price for homes built in each year, having 3 bedrooms and 3 bathrooms\n",
        "avg_price_query = \"\"\"\n",
        "    SELECT\n",
        "        date_built AS year_built,\n",
        "        ROUND(AVG(price), 2) AS avg_price\n",
        "    FROM\n",
        "        home_sales_view\n",
        "    WHERE\n",
        "        bedrooms = 3 AND bathrooms = 3\n",
        "    GROUP BY\n",
        "        date_built\n",
        "    ORDER BY\n",
        "        date_built\n",
        "\"\"\"\n",
        "\n",
        "# Execute the SQL query\n",
        "avg_price_result = spark.sql(avg_price_query)\n",
        "\n",
        "# Show the result\n",
        "avg_price_result.show()\n"
      ]
    },
    {
      "cell_type": "code",
      "execution_count": 21,
      "metadata": {
        "id": "Y-Eytz64liDU",
        "colab": {
          "base_uri": "https://localhost:8080/"
        },
        "outputId": "87d78569-bcdf-4381-c291-5495705fb70c"
      },
      "outputs": [
        {
          "output_type": "stream",
          "name": "stdout",
          "text": [
            "+----------+---------+\n",
            "|year_built|avg_price|\n",
            "+----------+---------+\n",
            "|      2010|285010.22|\n",
            "|      2011|276553.81|\n",
            "|      2012|307539.97|\n",
            "|      2013|303676.79|\n",
            "|      2014|298264.72|\n",
            "|      2015|297609.97|\n",
            "|      2016| 293965.1|\n",
            "|      2017|280317.58|\n",
            "+----------+---------+\n",
            "\n"
          ]
        }
      ],
      "source": [
        "# 5. What is the average price of a home for each year built that have 3 bedrooms, 3 bathrooms, with two floors,\n",
        "# and are greater than or equal to 2,000 square feet rounded to two decimal places?\n",
        "\n",
        "\n",
        "avg_price_query = \"\"\"\n",
        "    SELECT\n",
        "        date_built AS year_built,\n",
        "        ROUND(AVG(price), 2) AS avg_price\n",
        "    FROM\n",
        "        home_sales_view\n",
        "    WHERE\n",
        "        bedrooms = 3 AND\n",
        "        bathrooms = 3 AND\n",
        "        floors = 2 AND\n",
        "        sqft_living >= 2000\n",
        "    GROUP BY\n",
        "        date_built\n",
        "    ORDER BY\n",
        "        date_built\n",
        "\"\"\"\n",
        "\n",
        "# Execute the SQL query\n",
        "avg_price_result = spark.sql(avg_price_query)\n",
        "\n",
        "# Show the result\n",
        "avg_price_result.show()\n"
      ]
    },
    {
      "cell_type": "code",
      "execution_count": 22,
      "metadata": {
        "colab": {
          "base_uri": "https://localhost:8080/"
        },
        "id": "GUrfgOX1pCRd",
        "outputId": "ca4d7a1d-cd1d-47c3-aa57-48ce74e9adaa"
      },
      "outputs": [
        {
          "output_type": "stream",
          "name": "stdout",
          "text": [
            "+---------------+\n",
            "|avg_view_rating|\n",
            "+---------------+\n",
            "|          32.26|\n",
            "+---------------+\n",
            "\n",
            "--- 0.6496336460113525 seconds ---\n"
          ]
        }
      ],
      "source": [
        "# 6. What is the \"view\" rating for the average price of a home, rounded to two decimal places, where the homes are greater than\n",
        "# or equal to $350,000? Although this is a small dataset, determine the run time for this query.\n",
        "\n",
        "import time\n",
        "\n",
        "# Start time\n",
        "start_time = time.time()\n",
        "\n",
        "# SQL query to calculate the average view rating for homes with price >= $350,000\n",
        "avg_view_query = \"\"\"\n",
        "    SELECT\n",
        "        ROUND(AVG(view), 2) AS avg_view_rating\n",
        "    FROM\n",
        "        home_sales_view\n",
        "    WHERE\n",
        "        price >= 350000\n",
        "\"\"\"\n",
        "\n",
        "# Execute the SQL query\n",
        "avg_view_result = spark.sql(avg_view_query)\n",
        "\n",
        "# Show the result\n",
        "avg_view_result.show()\n",
        "\n",
        "# Runtime\n",
        "print(\"--- %s seconds ---\" % (time.time() - start_time))\n"
      ]
    },
    {
      "cell_type": "code",
      "execution_count": 24,
      "metadata": {
        "id": "KAhk3ZD2tFy8"
      },
      "outputs": [],
      "source": [
        "# 7. Cache the the temporary table home_sales.\n",
        "\n",
        "df.createOrReplaceTempView(\"home_sales_view\")\n",
        "\n",
        "# Cache the temporary view home_sales_view\n",
        "spark.catalog.cacheTable(\"home_sales_view\")\n"
      ]
    },
    {
      "cell_type": "code",
      "execution_count": 25,
      "metadata": {
        "id": "4opVhbvxtL-i",
        "colab": {
          "base_uri": "https://localhost:8080/"
        },
        "outputId": "4b081702-e8d4-44d9-ba48-19bf538a045c"
      },
      "outputs": [
        {
          "output_type": "stream",
          "name": "stdout",
          "text": [
            "Is home_sales_view cached: True\n"
          ]
        }
      ],
      "source": [
        "# Check if the temporary view home_sales_view is cached\n",
        "is_cached = spark.catalog.isCached('home_sales_view')\n",
        "\n",
        "# Print the result\n",
        "print(\"Is home_sales_view cached:\", is_cached)\n"
      ]
    },
    {
      "cell_type": "code",
      "execution_count": 26,
      "metadata": {
        "colab": {
          "base_uri": "https://localhost:8080/"
        },
        "id": "5GnL46lwTSEk",
        "outputId": "d006fd03-a59b-4ada-c8f4-00996b8fdfbe"
      },
      "outputs": [
        {
          "output_type": "stream",
          "name": "stdout",
          "text": [
            "+--------------------+-------------------+----------+------+--------+---------+-----------+--------+------+----------+----+\n",
            "|                  id|               date|date_built| price|bedrooms|bathrooms|sqft_living|sqft_lot|floors|waterfront|view|\n",
            "+--------------------+-------------------+----------+------+--------+---------+-----------+--------+------+----------+----+\n",
            "|f8a53099-ba1c-47d...|2022-04-08 00:00:00|      2016|936923|       4|        3|       3167|   11733|     2|         1|  76|\n",
            "|7530a2d8-1ae3-451...|2021-06-13 00:00:00|      2013|379628|       2|        2|       2235|   14384|     1|         0|  23|\n",
            "|43de979c-0bf0-4c9...|2019-04-12 00:00:00|      2014|417866|       2|        2|       2127|   10575|     2|         0|   0|\n",
            "|e0726d4d-d595-407...|2022-01-08 00:00:00|      2017|424418|       3|        2|       2249|   13878|     2|         0|   4|\n",
            "|131492a1-72e2-4a8...|2020-02-08 00:00:00|      2017|419199|       2|        3|       2062|    8876|     2|         0|   6|\n",
            "|f1e4cef7-d151-439...|2019-02-01 00:00:00|      2011|398667|       2|        3|       2331|   11356|     1|         0|   7|\n",
            "|ea620c7b-c2f7-4c6...|2021-05-31 00:00:00|      2011|437958|       3|        3|       2356|   11052|     1|         0|  26|\n",
            "|f233cb41-6f33-4b0...|2021-07-18 00:00:00|      2016|437375|       4|        3|       1704|   11721|     2|         0|  34|\n",
            "|164f451a-413b-469...|2022-04-26 00:00:00|      2017|377485|       2|        2|       1937|    9033|     2|         0|  23|\n",
            "|2dc662fe-57b8-44b...|2020-04-20 00:00:00|      2016|417215|       4|        2|       2104|    8227|     2|         0|  48|\n",
            "|a16c1fd3-50c3-4e7...|2020-02-12 00:00:00|      2014|372151|       3|        3|       1787|   12012|     2|         0|  16|\n",
            "|d715f295-2fbf-4e9...|2021-05-17 00:00:00|      2015|391574|       3|        2|       1635|    8040|     2|         0|  10|\n",
            "|a18515a2-86f3-46b...|2022-02-18 00:00:00|      2015|419543|       3|        2|       1642|   12826|     2|         0|  24|\n",
            "|15a5830f-1529-4c5...|2019-07-06 00:00:00|      2010|843191|       3|        6|       5086|   14637|     2|         0|  91|\n",
            "|0ffe23e3-9d0f-442...|2021-11-18 00:00:00|      2017|429183|       3|        3|       2162|   12567|     1|         0|  49|\n",
            "|209c1286-0834-463...|2021-07-04 00:00:00|      2010|395178|       3|        2|       1504|    9617|     2|         0|  37|\n",
            "|bb2ff269-f08f-4e8...|2022-03-06 00:00:00|      2010|429030|       3|        3|       2049|   11882|     2|         0|  23|\n",
            "|77a2d239-67a3-43b...|2021-06-18 00:00:00|      2016|396508|       3|        3|       1890|   10081|     2|         0|  25|\n",
            "|141ef834-60cf-42e...|2021-10-13 00:00:00|      2017|399016|       2|        3|       1773|   13699|     1|         0|  23|\n",
            "|34c31a34-220d-469...|2019-02-06 00:00:00|      2015|409011|       3|        3|       2356|   10507|     1|         0|   1|\n",
            "+--------------------+-------------------+----------+------+--------+---------+-----------+--------+------+----------+----+\n",
            "only showing top 20 rows\n",
            "\n",
            "--- Cached Runtime: 2.004596710205078 seconds ---\n",
            "+--------------------+-------------------+----------+------+--------+---------+-----------+--------+------+----------+----+\n",
            "|                  id|               date|date_built| price|bedrooms|bathrooms|sqft_living|sqft_lot|floors|waterfront|view|\n",
            "+--------------------+-------------------+----------+------+--------+---------+-----------+--------+------+----------+----+\n",
            "|f8a53099-ba1c-47d...|2022-04-08 00:00:00|      2016|936923|       4|        3|       3167|   11733|     2|         1|  76|\n",
            "|7530a2d8-1ae3-451...|2021-06-13 00:00:00|      2013|379628|       2|        2|       2235|   14384|     1|         0|  23|\n",
            "|43de979c-0bf0-4c9...|2019-04-12 00:00:00|      2014|417866|       2|        2|       2127|   10575|     2|         0|   0|\n",
            "|e0726d4d-d595-407...|2022-01-08 00:00:00|      2017|424418|       3|        2|       2249|   13878|     2|         0|   4|\n",
            "|131492a1-72e2-4a8...|2020-02-08 00:00:00|      2017|419199|       2|        3|       2062|    8876|     2|         0|   6|\n",
            "|f1e4cef7-d151-439...|2019-02-01 00:00:00|      2011|398667|       2|        3|       2331|   11356|     1|         0|   7|\n",
            "|ea620c7b-c2f7-4c6...|2021-05-31 00:00:00|      2011|437958|       3|        3|       2356|   11052|     1|         0|  26|\n",
            "|f233cb41-6f33-4b0...|2021-07-18 00:00:00|      2016|437375|       4|        3|       1704|   11721|     2|         0|  34|\n",
            "|164f451a-413b-469...|2022-04-26 00:00:00|      2017|377485|       2|        2|       1937|    9033|     2|         0|  23|\n",
            "|2dc662fe-57b8-44b...|2020-04-20 00:00:00|      2016|417215|       4|        2|       2104|    8227|     2|         0|  48|\n",
            "|a16c1fd3-50c3-4e7...|2020-02-12 00:00:00|      2014|372151|       3|        3|       1787|   12012|     2|         0|  16|\n",
            "|d715f295-2fbf-4e9...|2021-05-17 00:00:00|      2015|391574|       3|        2|       1635|    8040|     2|         0|  10|\n",
            "|a18515a2-86f3-46b...|2022-02-18 00:00:00|      2015|419543|       3|        2|       1642|   12826|     2|         0|  24|\n",
            "|15a5830f-1529-4c5...|2019-07-06 00:00:00|      2010|843191|       3|        6|       5086|   14637|     2|         0|  91|\n",
            "|0ffe23e3-9d0f-442...|2021-11-18 00:00:00|      2017|429183|       3|        3|       2162|   12567|     1|         0|  49|\n",
            "|209c1286-0834-463...|2021-07-04 00:00:00|      2010|395178|       3|        2|       1504|    9617|     2|         0|  37|\n",
            "|bb2ff269-f08f-4e8...|2022-03-06 00:00:00|      2010|429030|       3|        3|       2049|   11882|     2|         0|  23|\n",
            "|77a2d239-67a3-43b...|2021-06-18 00:00:00|      2016|396508|       3|        3|       1890|   10081|     2|         0|  25|\n",
            "|141ef834-60cf-42e...|2021-10-13 00:00:00|      2017|399016|       2|        3|       1773|   13699|     1|         0|  23|\n",
            "|34c31a34-220d-469...|2019-02-06 00:00:00|      2015|409011|       3|        3|       2356|   10507|     1|         0|   1|\n",
            "+--------------------+-------------------+----------+------+--------+---------+-----------+--------+------+----------+----+\n",
            "only showing top 20 rows\n",
            "\n",
            "--- Uncached Runtime: 0.2916288375854492 seconds ---\n"
          ]
        }
      ],
      "source": [
        "# 9. Using the cached data, run the query that filters out the view ratings with average price\n",
        "#  greater than or equal to $350,000. Determine the runtime and compare it to uncached runtime.\n",
        "\n",
        "\n",
        "start_time_cached = time.time()\n",
        "\n",
        "# Run the query using the cached data\n",
        "cached_query_result = spark.sql(\"\"\"\n",
        "    SELECT *\n",
        "    FROM home_sales_view\n",
        "    WHERE price >= 350000\n",
        "\"\"\")\n",
        "\n",
        "# Show the result\n",
        "cached_query_result.show()\n",
        "\n",
        "# Runtime for cached query\n",
        "cached_runtime = time.time() - start_time_cached\n",
        "print(\"--- Cached Runtime: %s seconds ---\" % cached_runtime)\n",
        "\n",
        "\n",
        "# Start time for uncached query\n",
        "start_time_uncached = time.time()\n",
        "\n",
        "# Run the same query without using cached data\n",
        "uncached_query_result = spark.sql(\"\"\"\n",
        "    SELECT *\n",
        "    FROM home_sales_view\n",
        "    WHERE price >= 350000\n",
        "\"\"\")\n",
        "\n",
        "# Show the result\n",
        "uncached_query_result.show()\n",
        "\n",
        "# Runtime for uncached query\n",
        "uncached_runtime = time.time() - start_time_uncached\n",
        "print(\"--- Uncached Runtime: %s seconds ---\" % uncached_runtime)\n",
        "\n"
      ]
    },
    {
      "cell_type": "code",
      "execution_count": 27,
      "metadata": {
        "id": "Qm12WN9isHBR",
        "colab": {
          "base_uri": "https://localhost:8080/"
        },
        "outputId": "15b6242d-7a4e-4d7b-effb-eaf7c5dbd14f"
      },
      "outputs": [
        {
          "output_type": "stream",
          "name": "stdout",
          "text": [
            "total 32\n",
            "drwxr-xr-x 2 root root 4096 Feb 13 01:18 'date_built=2010'\n",
            "drwxr-xr-x 2 root root 4096 Feb 13 01:18 'date_built=2011'\n",
            "drwxr-xr-x 2 root root 4096 Feb 13 01:18 'date_built=2012'\n",
            "drwxr-xr-x 2 root root 4096 Feb 13 01:18 'date_built=2013'\n",
            "drwxr-xr-x 2 root root 4096 Feb 13 01:18 'date_built=2014'\n",
            "drwxr-xr-x 2 root root 4096 Feb 13 01:18 'date_built=2015'\n",
            "drwxr-xr-x 2 root root 4096 Feb 13 01:18 'date_built=2016'\n",
            "drwxr-xr-x 2 root root 4096 Feb 13 01:18 'date_built=2017'\n",
            "-rw-r--r-- 1 root root    0 Feb 13 01:18  _SUCCESS\n"
          ]
        }
      ],
      "source": [
        "# 10. Partition by the \"date_built\" field on the formatted parquet home sales data\n",
        "\n",
        "output_path = \"partitioned_home_sales_parquet\"\n",
        "\n",
        "# Write the DataFrame to Parquet format partitioned by the \"date_built\" field\n",
        "df.write.partitionBy(\"date_built\").parquet(output_path)\n",
        "\n",
        "# Show the saved files\n",
        "!ls -l {output_path}\n"
      ]
    },
    {
      "cell_type": "code",
      "execution_count": 28,
      "metadata": {
        "id": "AZ7BgY61sRqY",
        "colab": {
          "base_uri": "https://localhost:8080/"
        },
        "outputId": "dc1cbea6-cc7c-4274-c390-5d5a29c29690"
      },
      "outputs": [
        {
          "output_type": "stream",
          "name": "stdout",
          "text": [
            "root\n",
            " |-- id: string (nullable = true)\n",
            " |-- date: timestamp (nullable = true)\n",
            " |-- price: integer (nullable = true)\n",
            " |-- bedrooms: integer (nullable = true)\n",
            " |-- bathrooms: integer (nullable = true)\n",
            " |-- sqft_living: integer (nullable = true)\n",
            " |-- sqft_lot: integer (nullable = true)\n",
            " |-- floors: integer (nullable = true)\n",
            " |-- waterfront: integer (nullable = true)\n",
            " |-- view: integer (nullable = true)\n",
            " |-- date_built: integer (nullable = true)\n",
            "\n",
            "+--------------------+-------------------+------+--------+---------+-----------+--------+------+----------+----+----------+\n",
            "|                  id|               date| price|bedrooms|bathrooms|sqft_living|sqft_lot|floors|waterfront|view|date_built|\n",
            "+--------------------+-------------------+------+--------+---------+-----------+--------+------+----------+----+----------+\n",
            "|2ed8d509-7372-46d...|2021-08-06 00:00:00|258710|       3|        3|       1918|    9666|     1|         0|  25|      2015|\n",
            "|941bad30-eb49-4a7...|2020-05-09 00:00:00|229896|       3|        3|       2197|    8641|     1|         0|   3|      2015|\n",
            "|c797ca12-52cd-4b1...|2019-06-08 00:00:00|288650|       2|        3|       2100|   10419|     2|         0|   7|      2015|\n",
            "|0cfe57f3-28c2-472...|2019-10-04 00:00:00|308313|       3|        3|       1960|    9453|     2|         0|   2|      2015|\n",
            "|d715f295-2fbf-4e9...|2021-05-17 00:00:00|391574|       3|        2|       1635|    8040|     2|         0|  10|      2015|\n",
            "+--------------------+-------------------+------+--------+---------+-----------+--------+------+----------+----+----------+\n",
            "only showing top 5 rows\n",
            "\n"
          ]
        }
      ],
      "source": [
        "# 11. Read the parquet formatted data.\n",
        "\n",
        "parquet_path = \"partitioned_home_sales_parquet\"\n",
        "\n",
        "# Read the Parquet formatted data\n",
        "parquet_df = spark.read.parquet(parquet_path)\n",
        "\n",
        "# Show the schema of the DataFrame\n",
        "parquet_df.printSchema()\n",
        "\n",
        "# Show the first few rows of the DataFrame\n",
        "parquet_df.show(5)\n",
        "\n"
      ]
    },
    {
      "cell_type": "code",
      "execution_count": 29,
      "metadata": {
        "id": "J6MJkHfvVcvh"
      },
      "outputs": [],
      "source": [
        "# 12. Create a temporary table for the parquet data.\n",
        "\n",
        "parquet_df.createOrReplaceTempView(\"parquet_home_sales_view\")\n"
      ]
    },
    {
      "cell_type": "code",
      "execution_count": 30,
      "metadata": {
        "colab": {
          "base_uri": "https://localhost:8080/"
        },
        "id": "G_Vhb52rU1Sn",
        "outputId": "8a36569d-596f-4345-89cf-bed1427eb42a"
      },
      "outputs": [
        {
          "output_type": "stream",
          "name": "stdout",
          "text": [
            "+---------------+\n",
            "|avg_view_rating|\n",
            "+---------------+\n",
            "|          32.26|\n",
            "+---------------+\n",
            "\n",
            "--- Parquet Runtime: 0.5833420753479004 seconds ---\n"
          ]
        }
      ],
      "source": [
        "# 13. Run the query that filters out the view ratings with average price of greater than or equal to $350,000\n",
        "# with the parquet DataFrame. Round your average to two decimal places.\n",
        "# Determine the runtime and compare it to the cached version.\n",
        "\n",
        "\n",
        "\n",
        "# Start time for Parquet query\n",
        "start_time_parquet = time.time()\n",
        "\n",
        "# Run the query using the Parquet DataFrame\n",
        "parquet_query_result = spark.sql(\"\"\"\n",
        "    SELECT ROUND(AVG(view), 2) AS avg_view_rating\n",
        "    FROM parquet_home_sales_view\n",
        "    WHERE price >= 350000\n",
        "\"\"\")\n",
        "\n",
        "# Show the result\n",
        "parquet_query_result.show()\n",
        "\n",
        "# Runtime for Parquet query\n",
        "parquet_runtime = time.time() - start_time_parquet\n",
        "print(\"--- Parquet Runtime: %s seconds ---\" % parquet_runtime)\n"
      ]
    },
    {
      "cell_type": "code",
      "execution_count": 32,
      "metadata": {
        "id": "hjjYzQGjtbq8"
      },
      "outputs": [],
      "source": [
        "# 14. Uncache the home_sales temporary table.\n",
        "\n",
        "spark.catalog.uncacheTable(\"home_sales_view\")\n"
      ]
    },
    {
      "cell_type": "code",
      "execution_count": 33,
      "metadata": {
        "id": "Sy9NBvO7tlmm",
        "colab": {
          "base_uri": "https://localhost:8080/"
        },
        "outputId": "c59865e7-c51c-4248-febe-744f50807f9f"
      },
      "outputs": [
        {
          "output_type": "stream",
          "name": "stdout",
          "text": [
            "Is home_sales_view cached: False\n"
          ]
        }
      ],
      "source": [
        "# 15. Check if the home_sales is no longer cached\n",
        "\n",
        "\n",
        "is_cached = spark.catalog.isCached('home_sales_view')\n",
        "\n",
        "# Print the result\n",
        "print(\"Is home_sales_view cached:\", is_cached)\n"
      ]
    },
    {
      "cell_type": "code",
      "execution_count": null,
      "metadata": {
        "id": "Si-BNruRUGK3"
      },
      "outputs": [],
      "source": []
    }
  ],
  "metadata": {
    "colab": {
      "provenance": []
    },
    "gpuClass": "standard",
    "kernelspec": {
      "display_name": "Python 3 (ipykernel)",
      "language": "python",
      "name": "python3"
    },
    "language_info": {
      "codemirror_mode": {
        "name": "ipython",
        "version": 3
      },
      "file_extension": ".py",
      "mimetype": "text/x-python",
      "name": "python",
      "nbconvert_exporter": "python",
      "pygments_lexer": "ipython3",
      "version": "3.10.4"
    },
    "nteract": {
      "version": "0.28.0"
    }
  },
  "nbformat": 4,
  "nbformat_minor": 0
}